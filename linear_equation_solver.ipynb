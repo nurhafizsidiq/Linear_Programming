{
 "cells": [
  {
   "cell_type": "markdown",
   "metadata": {},
   "source": [
    "# Optimization solver with python"
   ]
  },
  {
   "cell_type": "markdown",
   "metadata": {},
   "source": [
    "Note that: <br>\n",
    "objective function formatted as below:<br>\n",
    "$$z =  ax + by $$ \n",
    "every problem constraint formatted as below: <br>\n",
    "Inequality $$c_{i}x + d_{i}y \\leq c$$\n",
    "Equality $$c_{i}x + d_{i}y = c$$\n",
    "Bound $$x \\geq f$$ $$y \\geq h$$"
   ]
  },
  {
   "cell_type": "code",
   "execution_count": 3,
   "metadata": {},
   "outputs": [],
   "source": [
    "import numpy as np\n",
    "import matplotlib.pyplot as plt\n",
    "from matplotlib.patches import Polygon\n",
    "from scipy.optimize import linprog"
   ]
  },
  {
   "cell_type": "code",
   "execution_count": 4,
   "metadata": {},
   "outputs": [
    {
     "name": "stdout",
     "output_type": "stream",
     "text": [
      "What is your objective function?\n",
      "Enter constants for inequality\n"
     ]
    }
   ],
   "source": [
    "max_min = int(input(\"Enter 0 if you want to maximize, otherwise enter 1\"))\n",
    "print(\"What is your objective function?\")\n",
    "alpha = int(input(\"Enter alpha\"))\n",
    "beta = int(input('Enter beta'))\n",
    "if max_min == 0:\n",
    "    obj = [-alpha,  -beta]\n",
    "else:\n",
    "    obj = [alpha,  beta]\n",
    "\n",
    "n1 = int(input(\"Number of inequality \"))\n",
    "lhs_ineq  = []\n",
    "rhs_ineq  = []\n",
    "lhs_eq    = []\n",
    "rhs_eq    = []\n",
    "e = []\n",
    "print('Enter constants for inequality')\n",
    "for i in range(n1):\n",
    "    c_temp = int(input(f\"Enter c{i}\"))\n",
    "    d_temp = int(input(f\"Enter d{i}\"))\n",
    "    e_temp = int(input(f\"Enter e{i}\"))\n",
    "    lhs_ineq.append([c_temp,d_temp])\n",
    "    rhs_ineq.append(e_temp)\n",
    "\n",
    "n2 = int(input(\"Number of equality \"))\n",
    "if n2 > 0:\n",
    "    print('Enter constants for equality')\n",
    "    for i in range(n2):\n",
    "        c_temp = int(input(f\"Enter c{i}\"))\n",
    "        d_temp = int(input(f\"Enter d{i}\"))\n",
    "        e_temp = int(input(f\"Enter e{i}\"))\n",
    "        lhs_eq.append([c_temp, d_temp])\n",
    "        rhs_eq.append(e_temp)\n",
    "\n",
    "f = int(input(\"Enter f:\"))\n",
    "g = int(input('Enter g: '))\n",
    "bnd = [(f, float(\"inf\")), \n",
    "       (g, float(\"inf\"))]"
   ]
  },
  {
   "cell_type": "code",
   "execution_count": 5,
   "metadata": {},
   "outputs": [],
   "source": [
    "if n2 > 0:\n",
    "    opt = linprog(c=obj, A_ub=lhs_ineq, b_ub=rhs_ineq,\n",
    "              A_eq=lhs_eq, b_eq=rhs_eq, bounds=bnd)\n",
    "else:\n",
    "    opt = linprog(c=obj, A_ub=lhs_ineq, b_ub=rhs_ineq, bounds=bnd)"
   ]
  },
  {
   "cell_type": "code",
   "execution_count": 6,
   "metadata": {},
   "outputs": [
    {
     "name": "stdout",
     "output_type": "stream",
     "text": [
      "The  optimal values of the decision variables are: \n",
      "x = 2.0, y = 1.0\n",
      "\n",
      "The optimum value of the objective function is: \n",
      "7.0\n"
     ]
    }
   ],
   "source": [
    "print(\"The  optimal values of the decision variables are: \" )\n",
    "print(f\"x = {opt.x[0]}, y = {opt.x[1]}\\n\")\n",
    "print(\"The optimum value of the objective function is: \")\n",
    "if max_min == 0:\n",
    "    print(-opt.fun)\n",
    "else:\n",
    "    print(opt.fun)"
   ]
  }
 ],
 "metadata": {
  "kernelspec": {
   "display_name": "base",
   "language": "python",
   "name": "python3"
  },
  "language_info": {
   "codemirror_mode": {
    "name": "ipython",
    "version": 3
   },
   "file_extension": ".py",
   "mimetype": "text/x-python",
   "name": "python",
   "nbconvert_exporter": "python",
   "pygments_lexer": "ipython3",
   "version": "3.12.4"
  }
 },
 "nbformat": 4,
 "nbformat_minor": 2
}
