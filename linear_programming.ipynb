{
 "cells": [
  {
   "cell_type": "markdown",
   "metadata": {},
   "source": [
    "# Optimization solver for two variables with python"
   ]
  },
  {
   "cell_type": "markdown",
   "metadata": {},
   "source": [
    "Note that: <br>\n",
    "objective function formatted as below:<br>\n",
    "$$z =  ax + by $$ \n",
    "every problem constraint formatted as below: <br>\n",
    "Inequality $$c_{i}x + d_{i}y \\leq c$$\n",
    "Equality $$c_{i}x + d_{i}y = c$$\n",
    "Bound $$x \\geq f$$ $$y \\geq h$$"
   ]
  },
  {
   "cell_type": "code",
   "execution_count": 12,
   "metadata": {},
   "outputs": [],
   "source": [
    "import numpy as np\n",
    "import matplotlib.pyplot as plt\n",
    "from matplotlib.patches import Polygon\n",
    "from scipy.optimize import linprog"
   ]
  },
  {
   "cell_type": "code",
   "execution_count": 13,
   "metadata": {},
   "outputs": [],
   "source": [
    "max_min = int(input(\"Enter 0 if you want to maximize, otherwise enter 1\"))\n",
    "a = int(input(\"Enter a\"))\n",
    "b = int(input('Enter b'))\n",
    "if max_min == 0:\n",
    "    msg = 'maximize'\n",
    "    obj = [-a,  -b]\n",
    "else:\n",
    "    obj = [a,  b]\n",
    "    msg = 'minimize'\n",
    "\n",
    "n1 = int(input(\"Number of inequality \"))\n",
    "lhs_ineq  = []\n",
    "rhs_ineq  = []\n",
    "lhs_eq    = []\n",
    "rhs_eq    = []\n",
    "e = []\n",
    "for i in range(n1):\n",
    "    c_temp = float(input(f\"Enter c{i}\"))\n",
    "    d_temp = float(input(f\"Enter d{i}\"))\n",
    "    e_temp = float(input(f\"Enter e{i}\"))\n",
    "    lhs_ineq.append([c_temp,d_temp])\n",
    "    rhs_ineq.append(e_temp)\n",
    "\n",
    "n2 = int(input(\"Number of equality \"))\n",
    "if n2 > 0:\n",
    "    for i in range(n2):\n",
    "        c_temp = float(input(f\"Enter c{i}\"))\n",
    "        d_temp = float(input(f\"Enter d{i}\"))\n",
    "        e_temp = float(input(f\"Enter e{i}\"))\n",
    "        lhs_eq.append([c_temp, d_temp])\n",
    "        rhs_eq.append(e_temp)\n",
    "\n",
    "f = float(input(\"Enter f:\"))\n",
    "g = float(input('Enter g: '))\n",
    "bnd = [(f, float(\"inf\")), \n",
    "       (g, float(\"inf\"))]"
   ]
  },
  {
   "cell_type": "code",
   "execution_count": 14,
   "metadata": {},
   "outputs": [
    {
     "name": "stdout",
     "output_type": "stream",
     "text": [
      "Objective function:\n",
      "maximize z = (1)x + (2)y \n",
      "====================\n",
      "Inequalities:\n",
      "(2.0x) + (1.0y) <= 20.0\n",
      "(-4.0x) + (5.0y) <= 10.0\n",
      "(1.0x) + (-2.0y) <= 2.0\n",
      "====================\n",
      "Equalities: \n",
      "(-1.0x) + (5.0y) = 15.0\n",
      "====================\n",
      "Bound: \n",
      "x >= 0.0\n",
      "y >= 0.0\n"
     ]
    }
   ],
   "source": [
    "print(\"Objective function:\")\n",
    "print(f'{msg} z = ({a})x + ({b})y ')\n",
    "print(20*\"=\")\n",
    "print(\"Inequalities:\")\n",
    "for x in range(n1):\n",
    "    print(f\"({lhs_ineq[x][0]}x) + ({lhs_ineq[x][1]}y) <= {rhs_ineq[x]}\")\n",
    "print(20*\"=\")\n",
    "print(\"Equalities: \")\n",
    "if n2 > 0:\n",
    "    for x in range(n2):\n",
    "        print(f\"({lhs_eq[x][0]}x) + ({lhs_eq[x][1]}y) = {rhs_eq[x]}\")\n",
    "else:\n",
    "    print(\"None\")\n",
    "print(20*\"=\")\n",
    "print(\"Bound: \")\n",
    "print(f\"x >= {f}\")\n",
    "print(f\"y >= {g}\")"
   ]
  },
  {
   "cell_type": "code",
   "execution_count": 15,
   "metadata": {},
   "outputs": [
    {
     "name": "stdout",
     "output_type": "stream",
     "text": [
      "The  optimal values of the decision variables are: \n",
      "x = 7.727272694196984, y = 4.545454528615941\n",
      "\n",
      "The optimum value of the objective function is: \n",
      "16.818181751428867\n"
     ]
    }
   ],
   "source": [
    "if n2 > 0:\n",
    "    opt = linprog(c=obj, A_ub=lhs_ineq, b_ub=rhs_ineq,\n",
    "              A_eq=lhs_eq, b_eq=rhs_eq, bounds=bnd)\n",
    "else:\n",
    "    opt = linprog(c=obj, A_ub=lhs_ineq, b_ub=rhs_ineq, bounds=bnd)\n",
    "print(\"The  optimal values of the decision variables are: \" )\n",
    "print(f\"x = {opt.x[0]}, y = {opt.x[1]}\\n\")\n",
    "print(\"The optimum value of the objective function is: \")\n",
    "if max_min == 0:\n",
    "    print(-opt.fun)\n",
    "else:\n",
    "    print(opt.fun)"
   ]
  }
 ],
 "metadata": {
  "kernelspec": {
   "display_name": "base",
   "language": "python",
   "name": "python3"
  },
  "language_info": {
   "codemirror_mode": {
    "name": "ipython",
    "version": 3
   },
   "file_extension": ".py",
   "mimetype": "text/x-python",
   "name": "python",
   "nbconvert_exporter": "python",
   "pygments_lexer": "ipython3",
   "version": "3.10.7"
  }
 },
 "nbformat": 4,
 "nbformat_minor": 2
}
